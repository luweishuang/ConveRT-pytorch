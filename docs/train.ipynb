{
  "nbformat": 4,
  "nbformat_minor": 0,
  "metadata": {
    "colab": {
      "name": "Untitled4.ipynb",
      "provenance": []
    },
    "kernelspec": {
      "name": "python3",
      "display_name": "Python 3"
    },
    "accelerator": "GPU"
  },
  "cells": [
    {
      "cell_type": "code",
      "metadata": {
        "id": "1bDKFJABjywz",
        "colab_type": "code",
        "colab": {}
      },
      "source": [
        "!git clone https://github.com/luweishuang/ConveRT-pytorch.git\n",
        "%cd ConveRT-pytorch\n",
        "!pip install -r requirements.txt\n"
      ],
      "execution_count": null,
      "outputs": []
    },
    {
      "cell_type": "code",
      "metadata": {
        "id": "kyM0jzCpkZfd",
        "colab_type": "code",
        "colab": {}
      },
      "source": [
        "!python train.py"
      ],
      "execution_count": null,
      "outputs": []
    }
  ]
}